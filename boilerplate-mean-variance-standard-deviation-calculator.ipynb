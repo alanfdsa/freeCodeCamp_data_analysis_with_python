{
 "cells": [
  {
   "cell_type": "code",
   "execution_count": 2,
   "id": "e65fe00f",
   "metadata": {
    "ExecuteTime": {
     "end_time": "2022-06-24T03:36:18.082024Z",
     "start_time": "2022-06-24T03:36:17.985936Z"
    }
   },
   "outputs": [],
   "source": [
    "import numpy as np"
   ]
  },
  {
   "cell_type": "markdown",
   "id": "5d5dfc7b",
   "metadata": {},
   "source": [
    "# Informações sobre o projeto:\n",
    "\n",
    "https://www.freecodecamp.org/learn/data-analysis-with-python/data-analysis-with-python-projects/mean-variance-standard-deviation-calculator"
   ]
  },
  {
   "cell_type": "code",
   "execution_count": 4,
   "id": "23d5e521",
   "metadata": {
    "ExecuteTime": {
     "end_time": "2022-06-24T03:36:34.216960Z",
     "start_time": "2022-06-24T03:36:34.202947Z"
    }
   },
   "outputs": [],
   "source": [
    "def calculate(list):\n",
    "\n",
    "    if len(list) != 9:\n",
    "      raise ValueError(\"List must contain nine numbers.\")\n",
    "  \n",
    "    list = np.array(list).reshape(3,3)\n",
    "  \n",
    "    calculations = {\n",
    "      'mean': [list.mean(axis=0).tolist(),list.mean(axis=1).tolist(),list.flatten().mean()],\n",
    "      'variance': [list.var(axis=0).tolist(),list.var(axis=1).tolist(),list.flatten().var()],\n",
    "      'standard deviation': [list.std(axis=0).tolist(),list.std(axis=1).tolist(),list.flatten().std()],\n",
    "      'max': [list.max(axis=0).tolist(),list.max(axis=1).tolist(),list.flatten().max()],\n",
    "      'min': [list.min(axis=0).tolist(),list.min(axis=1).tolist(),list.flatten().min()],\n",
    "      'sum': [list.sum(axis=0).tolist(),list.sum(axis=1).tolist(),list.flatten().sum()]\n",
    "    }\n",
    "\n",
    "    return calculations"
   ]
  },
  {
   "cell_type": "code",
   "execution_count": 6,
   "id": "26cdd096",
   "metadata": {
    "ExecuteTime": {
     "end_time": "2022-06-24T03:36:54.703925Z",
     "start_time": "2022-06-24T03:36:54.697920Z"
    }
   },
   "outputs": [
    {
     "name": "stdout",
     "output_type": "stream",
     "text": [
      "{'mean': [[3.0, 4.0, 5.0], [1.0, 4.0, 7.0], 4.0], 'variance': [[6.0, 6.0, 6.0], [0.6666666666666666, 0.6666666666666666, 0.6666666666666666], 6.666666666666667], 'standard deviation': [[2.449489742783178, 2.449489742783178, 2.449489742783178], [0.816496580927726, 0.816496580927726, 0.816496580927726], 2.581988897471611], 'max': [[6, 7, 8], [2, 5, 8], 8], 'min': [[0, 1, 2], [0, 3, 6], 0], 'sum': [[9, 12, 15], [3, 12, 21], 36]}\n"
     ]
    }
   ],
   "source": [
    "print(calculate([0,1,2,3,4,5,6,7,8]))"
   ]
  },
  {
   "cell_type": "code",
   "execution_count": null,
   "id": "48002b0a",
   "metadata": {},
   "outputs": [],
   "source": []
  }
 ],
 "metadata": {
  "kernelspec": {
   "display_name": "Python 3 (ipykernel)",
   "language": "python",
   "name": "python3"
  },
  "language_info": {
   "codemirror_mode": {
    "name": "ipython",
    "version": 3
   },
   "file_extension": ".py",
   "mimetype": "text/x-python",
   "name": "python",
   "nbconvert_exporter": "python",
   "pygments_lexer": "ipython3",
   "version": "3.9.7"
  }
 },
 "nbformat": 4,
 "nbformat_minor": 5
}
