{
 "cells": [
  {
   "cell_type": "code",
   "execution_count": null,
   "id": "6a765706",
   "metadata": {},
   "outputs": [],
   "source": [
    "import pandas as pd"
   ]
  },
  {
   "cell_type": "code",
   "execution_count": null,
   "id": "606bca66",
   "metadata": {},
   "outputs": [],
   "source": [
    "#Lendo dados\n",
    "df = pd.read_csv('adult.data.csv')"
   ]
  },
  {
   "cell_type": "markdown",
   "id": "8a7cb0ba",
   "metadata": {},
   "source": [
    "# Esse projeto só pede que algumas perguntas sejam respondidas com base nos dados.\n",
    "\n",
    "Mais sobre em:\n",
    "https://www.freecodecamp.org/learn/data-analysis-with-python/data-analysis-with-python-projects/demographic-data-analyzer"
   ]
  },
  {
   "cell_type": "code",
   "execution_count": null,
   "id": "5c8f6dfd",
   "metadata": {},
   "outputs": [],
   "source": [
    "# How many of each race are represented in this dataset? This should be a Pandas series with race names as the index labels.\n",
    "race_count = df['race'].value_counts()"
   ]
  },
  {
   "cell_type": "code",
   "execution_count": null,
   "id": "10cac5ba",
   "metadata": {},
   "outputs": [],
   "source": [
    "# What is the average age of men?\n",
    "average_age_men = round(df.loc[df['sex']=='Male','age'].mean(),1)"
   ]
  },
  {
   "cell_type": "code",
   "execution_count": null,
   "id": "c239eef5",
   "metadata": {},
   "outputs": [],
   "source": [
    "# What is the percentage of people who have a Bachelor's degree?\n",
    "percentage_bachelors = round((df.loc[df['education']=='Bachelors','age'].count()/df['education'].count())*100,1)"
   ]
  },
  {
   "cell_type": "code",
   "execution_count": null,
   "id": "303b783f",
   "metadata": {},
   "outputs": [],
   "source": [
    "# What percentage of people with advanced education (`Bachelors`, `Masters`, or `Doctorate`) make more than 50K?\n",
    "# What percentage of people without advanced education make more than 50K?\n",
    "\n",
    "# with and without `Bachelors`, `Masters`, or `Doctorate`\n",
    "\n",
    "higher_education = round(df[df['education'].isin(['Bachelors','Masters','Doctorate'])],1)\n",
    "lower_education = round(df[~df['education'].isin(['Bachelors','Masters','Doctorate'])],1)"
   ]
  },
  {
   "cell_type": "code",
   "execution_count": null,
   "id": "b97c8234",
   "metadata": {},
   "outputs": [],
   "source": [
    "# percentage with salary >50K\n",
    "\n",
    "non_percentage_higher = len(higher_education[higher_education.salary=='>50K'])\n",
    "\n",
    "higher_education_rich = round(non_percentage_higher/len(higher_education)*100,1)\n",
    "\n",
    "non_percentage_lower = len(lower_education[lower_education.salary=='>50K'])\n",
    "\n",
    "lower_education_rich = round(non_percentage_lower/len(lower_education)*100,1)"
   ]
  },
  {
   "cell_type": "code",
   "execution_count": null,
   "id": "38e76133",
   "metadata": {},
   "outputs": [],
   "source": [
    "# What is the minimum number of hours a person works per week (hours-per-week feature)?\n",
    "min_work_hours = df['hours-per-week'].min()"
   ]
  },
  {
   "cell_type": "code",
   "execution_count": null,
   "id": "37eb53dd",
   "metadata": {},
   "outputs": [],
   "source": [
    "# What percentage of the people who work the minimum number of hours per week have a salary of >50K?\n",
    "num_min_workers = round(len(df.loc[(df['hours-per-week']==min_work_hours) & (df['salary']=='>50K')])/len(df),1)*100\n",
    "\n",
    "rich_percentage = round(len(df.loc[(df['hours-per-week']==min_work_hours) & (df['salary']=='>50K')])/len(df.loc[df['hours-per-week']==min_work_hours]),1)*100"
   ]
  },
  {
   "cell_type": "code",
   "execution_count": null,
   "id": "b7b13be2",
   "metadata": {},
   "outputs": [],
   "source": [
    "# What country has the highest percentage of people that earn >50K?\n",
    "country_count = df['native-country'].value_counts()\n",
    "\n",
    "country_rich_count = df[df['salary']=='>50K']['native-country'].value_counts()\n",
    "\n",
    "highest_earning_country =(country_rich_count/country_count*100).idxmax()\n",
    "\n",
    "highest_earning_country_percentage = round((country_rich_count/country_count*100).max(),1)"
   ]
  },
  {
   "cell_type": "code",
   "execution_count": null,
   "id": "cf23b8c9",
   "metadata": {},
   "outputs": [],
   "source": [
    "# Identify the most popular occupation for those who earn >50K in India.\n",
    "people_of_india = df[(df['native-country']=='India') & (df['salary']=='>50K')]\n",
    "\n",
    "occupation_counts = people_of_india['occupation'].value_counts()\n",
    "\n",
    "top_IN_occupation = occupation_counts.idxmax()"
   ]
  }
 ],
 "metadata": {
  "kernelspec": {
   "display_name": "Python 3 (ipykernel)",
   "language": "python",
   "name": "python3"
  },
  "language_info": {
   "codemirror_mode": {
    "name": "ipython",
    "version": 3
   },
   "file_extension": ".py",
   "mimetype": "text/x-python",
   "name": "python",
   "nbconvert_exporter": "python",
   "pygments_lexer": "ipython3",
   "version": "3.9.7"
  }
 },
 "nbformat": 4,
 "nbformat_minor": 5
}
